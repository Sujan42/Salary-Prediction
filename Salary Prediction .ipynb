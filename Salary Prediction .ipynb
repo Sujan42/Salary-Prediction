{
 "cells": [
  {
   "cell_type": "markdown",
   "id": "6fc05ebc",
   "metadata": {},
   "source": [
    "# Salary prediction using Sklearn"
   ]
  },
  {
   "cell_type": "code",
   "execution_count": 317,
   "id": "76c9431d",
   "metadata": {},
   "outputs": [],
   "source": [
    "# lets import all the respective nessary libraries\n",
    "import pandas as pd\n",
    "import matplotlib.pyplot as plt\n",
    "import numpy as np\n",
    "from sklearn.linear_model import LinearRegression\n",
    "import scipy as sc"
   ]
  },
  {
   "cell_type": "code",
   "execution_count": 318,
   "id": "c870487b",
   "metadata": {},
   "outputs": [],
   "source": [
    "# Lets use pandas to read Salary.csv file and only read certain columns\n",
    "read_data = pd.read_csv(\"Salary.csv\")\n",
    "\n",
    "#lets convert the read data into a DataFrame\n",
    "df = pd.DataFrame(read_data)"
   ]
  },
  {
   "cell_type": "code",
   "execution_count": 319,
   "id": "5c9784e2",
   "metadata": {},
   "outputs": [
    {
     "data": {
      "text/plain": [
       "(35, 2)"
      ]
     },
     "execution_count": 319,
     "metadata": {},
     "output_type": "execute_result"
    }
   ],
   "source": [
    "df.shape"
   ]
  },
  {
   "cell_type": "code",
   "execution_count": 320,
   "id": "1d22d93d",
   "metadata": {},
   "outputs": [],
   "source": [
    "# Lets define variables to store YearsExperience and Salary\n",
    "feature_cols = ['YearsExperience']\n",
    "X = df[feature_cols]\n",
    "y = df['Salary']"
   ]
  },
  {
   "cell_type": "code",
   "execution_count": 345,
   "id": "1f6f4d47",
   "metadata": {},
   "outputs": [
    {
     "data": {
      "text/plain": [
       "pandas.core.frame.DataFrame"
      ]
     },
     "execution_count": 345,
     "metadata": {},
     "output_type": "execute_result"
    }
   ],
   "source": [
    "type(X)"
   ]
  },
  {
   "cell_type": "code",
   "execution_count": 321,
   "id": "236e7371",
   "metadata": {},
   "outputs": [
    {
     "name": "stdout",
     "output_type": "stream",
     "text": [
      "(35, 1)\n",
      "(35,)\n"
     ]
    }
   ],
   "source": [
    "print(X.shape)\n",
    "print(y.shape)"
   ]
  },
  {
   "cell_type": "code",
   "execution_count": 322,
   "id": "0f88ad60",
   "metadata": {},
   "outputs": [
    {
     "data": {
      "text/plain": [
       "LinearRegression()"
      ]
     },
     "execution_count": 322,
     "metadata": {},
     "output_type": "execute_result"
    }
   ],
   "source": [
    "# Lets instantiate our Linear Regression model, and fit the respective data\n",
    "lin_reg = LinearRegression()\n",
    "lin_reg.fit(X,y)"
   ]
  },
  {
   "cell_type": "code",
   "execution_count": 323,
   "id": "60117dee",
   "metadata": {},
   "outputs": [
    {
     "name": "stdout",
     "output_type": "stream",
     "text": [
      "28859.52619453144\n",
      "[8731.94104706]\n"
     ]
    }
   ],
   "source": [
    "#printing the intercepts and coefficients\n",
    "print(lin_reg.intercept_)\n",
    "print(lin_reg.coef_)"
   ]
  },
  {
   "cell_type": "code",
   "execution_count": 324,
   "id": "23ff0fa3",
   "metadata": {},
   "outputs": [
    {
     "name": "stdout",
     "output_type": "stream",
     "text": [
      "[('YearsExperience', 8731.941047062497)]\n"
     ]
    }
   ],
   "source": [
    "# Here, I have used zip() function to merge respective elements of two list into two tuples, and ultimately convert to a List\n",
    "zipped = list(zip(feature_cols, lin_reg.coef_)) \n",
    "print(zipped)"
   ]
  },
  {
   "cell_type": "markdown",
   "id": "0b12ca3b",
   "metadata": {},
   "source": [
    "So, the final Linear Regression model equation is\n",
    "\n",
    "        y = (YearsExperience * (8731.941047062497))  + (28859.52619453144)\n",
    "        \n",
    "Where, 28859.52619453144 is the y-Intercept"
   ]
  },
  {
   "cell_type": "code",
   "execution_count": 325,
   "id": "729c93f2",
   "metadata": {},
   "outputs": [
    {
     "data": {
      "text/plain": [
       "[38464.661346300185,\n",
       " 40211.049555712685,\n",
       " 41957.437765125185,\n",
       " 46323.408288656436,\n",
       " 48069.796498068936,\n",
       " 54182.155231012686,\n",
       " 55055.34933571893,\n",
       " 56801.73754513143,\n",
       " 56801.73754513143,\n",
       " 61167.70806866269,\n",
       " 62914.09627807518,\n",
       " 63787.29038278143,\n",
       " 63787.29038278143,\n",
       " 64660.48448748768,\n",
       " 68153.26090631267,\n",
       " 71646.03732513767,\n",
       " 73392.42553455017,\n",
       " 75138.81374396267,\n",
       " 80377.97837220017,\n",
       " 81251.17247690642,\n",
       " 88236.72531455642,\n",
       " 90856.30762867516,\n",
       " 97841.86046632518,\n",
       " 100461.44278044392,\n",
       " 104827.41330397516,\n",
       " 107446.99561809392,\n",
       " 111812.96614162516,\n",
       " 112686.1602463314,\n",
       " 118798.51897927516,\n",
       " 120544.90718868766,\n",
       " 126657.2659216314,\n",
       " 129276.84823575016,\n",
       " 136262.40107340016,\n",
       " 141501.56570163765,\n",
       " 146740.73032987514]"
      ]
     },
     "execution_count": 325,
     "metadata": {},
     "output_type": "execute_result"
    }
   ],
   "source": [
    "# Lets make the salary prediction using the respective years of experience from in-sample data\n",
    "pred = lin_reg.predict(X)\n",
    "list(pred)"
   ]
  },
  {
   "cell_type": "code",
   "execution_count": 326,
   "id": "2d6d7217",
   "metadata": {},
   "outputs": [
    {
     "name": "stdout",
     "output_type": "stream",
     "text": [
      "[39343, 46205, 37731, 43525, 39891, 56642, 60150, 54445, 64445, 57189, 63218, 55794, 56957, 57081, 61111, 67938, 66029, 83088, 81363, 93940, 91738, 98273, 101302, 113812, 109431, 105582, 116969, 112635, 122391, 121872, 127345, 126756, 128765, 135675, 139465]\n"
     ]
    }
   ],
   "source": [
    "# print the original salary\n",
    "print(list(y))"
   ]
  },
  {
   "cell_type": "code",
   "execution_count": 327,
   "id": "05cb6ae9",
   "metadata": {},
   "outputs": [
    {
     "data": {
      "text/plain": [
       "array([159838.64190047])"
      ]
     },
     "execution_count": 327,
     "metadata": {},
     "output_type": "execute_result"
    }
   ],
   "source": [
    "# Lets make a prediction for a salary when experience is 15 years with this model\n",
    "new_salary = lin_reg.predict([[15]])\n",
    "new_salary"
   ]
  },
  {
   "cell_type": "code",
   "execution_count": 328,
   "id": "1eebbddc",
   "metadata": {
    "scrolled": true
   },
   "outputs": [
    {
     "data": {
      "image/png": "[encoded data removed]",
      "text/plain": [
       "<Figure size 432x288 with 1 Axes>"
      ]
     },
     "metadata": {
      "needs_background": "light"
     },
     "output_type": "display_data"
    }
   ],
   "source": [
    "# Plotting a scatter : Training set (X) versus prediction made using X i.e(pred)\n",
    "plt.scatter(X,pred,color = 'red')\n",
    "plt.title('Predicted salary with respective experience from in-sample data(X)')\n",
    "plt.xlabel('Years of Experience')\n",
    "plt.ylabel('Salary')\n",
    "plt.show()"
   ]
  },
  {
   "cell_type": "markdown",
   "id": "c8f6bc38",
   "metadata": {},
   "source": [
    "# Since this is a regression problem, we will be measuring errors and not Accuracy. Thus, lower the error, much better the model"
   ]
  },
  {
   "cell_type": "markdown",
   "id": "b559cc7a",
   "metadata": {},
   "source": [
    "# Lets measure MAE, MSE, and RMSE\n",
    "        - MAE = Mean Absolute Error\n",
    "        - MSE = Mean Squared Error\n",
    "        - RMSE = Root Mean Squared Error"
   ]
  },
  {
   "cell_type": "code",
   "execution_count": 329,
   "id": "e97867c4",
   "metadata": {},
   "outputs": [
    {
     "name": "stdout",
     "output_type": "stream",
     "text": [
      "4976.718765130531\n"
     ]
    }
   ],
   "source": [
    "# For Mean Absolute Error\n",
    "from sklearn import metrics\n",
    "print(metrics.mean_absolute_error(y,pred))"
   ]
  },
  {
   "cell_type": "code",
   "execution_count": 330,
   "id": "a101b657",
   "metadata": {},
   "outputs": [
    {
     "name": "stdout",
     "output_type": "stream",
     "text": [
      "35006768.19370177\n"
     ]
    }
   ],
   "source": [
    "# For MSE\n",
    "print(metrics.mean_squared_error(y,pred))"
   ]
  },
  {
   "cell_type": "code",
   "execution_count": 331,
   "id": "9d9f6edc",
   "metadata": {},
   "outputs": [
    {
     "name": "stdout",
     "output_type": "stream",
     "text": [
      "5916.65177221896\n"
     ]
    }
   ],
   "source": [
    "# For RMSE\n",
    "print(np.sqrt(metrics.mean_squared_error(y,pred)))"
   ]
  },
  {
   "cell_type": "markdown",
   "id": "b4c8d6ca",
   "metadata": {},
   "source": [
    "Here, We made predictions and measured error using in-sample data. However, lets measure our models capabilites using off-sample data. "
   ]
  },
  {
   "cell_type": "markdown",
   "id": "41e684f1",
   "metadata": {},
   "source": [
    "# Using Train-Test-Split and Splitting x and y into training and testing sets"
   ]
  },
  {
   "cell_type": "code",
   "execution_count": 332,
   "id": "b9d64047",
   "metadata": {},
   "outputs": [],
   "source": [
    "from sklearn.model_selection import train_test_split\n",
    "x_train,x_test,y_train,y_test = train_test_split(X,y,test_size = 0.4)"
   ]
  },
  {
   "cell_type": "code",
   "execution_count": 333,
   "id": "d02681fa",
   "metadata": {},
   "outputs": [
    {
     "name": "stdout",
     "output_type": "stream",
     "text": [
      "(21, 1)\n",
      "(14, 1)\n",
      "(21,)\n",
      "(14,)\n"
     ]
    }
   ],
   "source": [
    "print(x_train.shape)\n",
    "print(x_test.shape)\n",
    "print(y_train.shape)\n",
    "print(y_test.shape)"
   ]
  },
  {
   "cell_type": "code",
   "execution_count": 334,
   "id": "3d7d3122",
   "metadata": {
    "scrolled": true
   },
   "outputs": [
    {
     "data": {
      "text/plain": [
       "LinearRegression()"
      ]
     },
     "execution_count": 334,
     "metadata": {},
     "output_type": "execute_result"
    }
   ],
   "source": [
    "lin_reg = LinearRegression()\n",
    "lin_reg.fit(x_train,y_train)"
   ]
  },
  {
   "cell_type": "code",
   "execution_count": 335,
   "id": "a7c5a100",
   "metadata": {},
   "outputs": [
    {
     "name": "stdout",
     "output_type": "stream",
     "text": [
      "27250.899456481377\n",
      "[9025.53056178]\n"
     ]
    }
   ],
   "source": [
    "#printing the intercepts and coefficients\n",
    "print(lin_reg.intercept_)\n",
    "print(lin_reg.coef_)"
   ]
  },
  {
   "cell_type": "code",
   "execution_count": 336,
   "id": "cac9b340",
   "metadata": {},
   "outputs": [
    {
     "name": "stdout",
     "output_type": "stream",
     "text": [
      "[('YearsExperience', 9025.530561784406)]\n"
     ]
    }
   ],
   "source": [
    "# Here, I have used zip() function to merge respective elements of two list into two tuples, and ultimately convert to a List\n",
    "zipped = list(zip(feature_cols, lin_reg.coef_)) \n",
    "print(zipped)"
   ]
  },
  {
   "cell_type": "markdown",
   "id": "c3fa28b5",
   "metadata": {},
   "source": [
    "So, the final Linear Regression model equation is\n",
    "\n",
    "        y = (YearsExperience * (8677.16306443))  + (30468.000339224003)\n",
    "        \n",
    "Where, the y-Intercept is 30468.000339224003."
   ]
  },
  {
   "cell_type": "code",
   "execution_count": 337,
   "id": "3b55c49a",
   "metadata": {},
   "outputs": [
    {
     "name": "stdout",
     "output_type": "stream",
     "text": [
      "[108480.67451254102, 40789.19529915799, 81404.08282718781, 75086.21143393873, 63353.021703619, 138264.92536642958, 56132.59725419148, 38984.0891868011, 73281.10532158185, 63353.021703619, 113895.99284961168, 88624.50727661533, 45301.96058005019, 143680.24370350022]\n"
     ]
    }
   ],
   "source": [
    "# Now, lets make our prediciton in the off-sample data. i.e x_test\n",
    "y_pred = lin_reg.predict(x_test)\n",
    "print(list(y_pred))"
   ]
  },
  {
   "cell_type": "code",
   "execution_count": 338,
   "id": "6984dc02",
   "metadata": {},
   "outputs": [
    {
     "name": "stdout",
     "output_type": "stream",
     "text": [
      "[105582, 37731, 93940, 83088, 55794, 128765, 64445, 46205, 66029, 56957, 112635, 91738, 43525, 135675]\n"
     ]
    }
   ],
   "source": [
    "# The below is our actual correct salary for x_test data\n",
    "print(list(y_test))"
   ]
  },
  {
   "cell_type": "code",
   "execution_count": 339,
   "id": "26949f77",
   "metadata": {},
   "outputs": [
    {
     "data": {
      "text/plain": [
       "array([162633.85788325])"
      ]
     },
     "execution_count": 339,
     "metadata": {},
     "output_type": "execute_result"
    }
   ],
   "source": [
    "# Lets make a prediction for a salary when experience is 15 years with this model\n",
    "new_salary = lin_reg.predict([[15]])\n",
    "new_salary"
   ]
  },
  {
   "cell_type": "code",
   "execution_count": 344,
   "id": "aad0afe3",
   "metadata": {},
   "outputs": [
    {
     "data": {
      "image/png": "[encoded data removed]",
      "text/plain": [
       "<Figure size 432x288 with 1 Axes>"
      ]
     },
     "metadata": {
      "needs_background": "light"
     },
     "output_type": "display_data"
    }
   ],
   "source": [
    "# Plotting a scatter : Testing set (x_test) versus prediction made using X_test i.e(y_pred)\n",
    "plt.scatter(x_test,y_pred,color = 'blue')\n",
    "plt.title('Predicted salary with respective experience from out of sample data (X_test)')\n",
    "plt.xlabel('Years of Experience')\n",
    "plt.ylabel('Salary')\n",
    "plt.show()"
   ]
  },
  {
   "cell_type": "markdown",
   "id": "6dd1aa69",
   "metadata": {},
   "source": [
    "# Lets measure MAE, MSE, and RMSE with OUT-sample data "
   ]
  },
  {
   "cell_type": "code",
   "execution_count": null,
   "id": "1af9ac05",
   "metadata": {},
   "outputs": [],
   "source": [
    "# For Mean Absolute Error\n",
    "print(metrics.mean_absolute_error(y_test,y_pred))"
   ]
  },
  {
   "cell_type": "code",
   "execution_count": null,
   "id": "0e20bc94",
   "metadata": {},
   "outputs": [],
   "source": [
    "# For MSE\n",
    "print(metrics.mean_squared_error(y_test,y_pred))"
   ]
  },
  {
   "cell_type": "code",
   "execution_count": null,
   "id": "8e8a0e0e",
   "metadata": {},
   "outputs": [],
   "source": [
    "# For RMSE\n",
    "print(np.sqrt(metrics.mean_squared_error(y_test,y_pred)))"
   ]
  },
  {
   "cell_type": "markdown",
   "id": "7a8c2b70",
   "metadata": {},
   "source": [
    "Here, we can clearly see that, when tested with off sample data, our MAE, MSE and RMSE have reduced."
   ]
  },
  {
   "cell_type": "markdown",
   "id": "b7026ba4",
   "metadata": {},
   "source": [
    "To conclude, an efficiency of a model or system is best tested with off-sample data because, in real life, the model will definately be faced with data that it has not previously been trained with. "
   ]
  },
  {
   "cell_type": "markdown",
   "id": "79714dd4",
   "metadata": {},
   "source": [
    "# Thank you\n",
    "# Completed by Sujan Neupane\n",
    "# neupanesujan420@gmail.com"
   ]
  }
 ],
 "metadata": {
  "kernelspec": {
   "display_name": "Python 3",
   "language": "python",
   "name": "python3"
  },
  "language_info": {
   "codemirror_mode": {
    "name": "ipython",
    "version": 3
   },
   "file_extension": ".py",
   "mimetype": "text/x-python",
   "name": "python",
   "nbconvert_exporter": "python",
   "pygments_lexer": "ipython3",
   "version": "3.8.8"
  }
 },
 "nbformat": 4,
 "nbformat_minor": 5
}
